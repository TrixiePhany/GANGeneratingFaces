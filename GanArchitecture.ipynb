version https://git-lfs.github.com/spec/v1
oid sha256:4faa89d99891cb79fcca4924bb8a24296b2fa44b42278a38be34db30a705a1ce
size 105446651
